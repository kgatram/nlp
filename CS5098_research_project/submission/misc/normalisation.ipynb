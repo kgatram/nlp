{
 "cells": [
  {
   "cell_type": "markdown",
   "id": "c3f53ce7-3913-43bf-88e1-7e44b6944344",
   "metadata": {},
   "source": [
    "## Old inference"
   ]
  },
  {
   "cell_type": "code",
   "execution_count": 2,
   "id": "8c09d9e8",
   "metadata": {},
   "outputs": [
    {
     "name": "stderr",
     "output_type": "stream",
     "text": [
      "Using cache found in /home/akhkr1/.cache/torch/hub/facebookresearch_dinov2_main\n"
     ]
    }
   ],
   "source": [
    "from math import exp\n",
    "import torch\n",
    "import torch.nn as nn\n",
    "import torch.optim.lr_scheduler as lr_scheduler\n",
    "import numpy as np\n",
    "from PIL import Image\n",
    "import torchvision.transforms as T\n",
    "import matplotlib.pyplot as plt\n",
    "import os\n",
    "import time\n",
    "from sklearn.preprocessing import MinMaxScaler\n",
    "import warnings\n",
    "import random\n",
    "import pickle\n",
    "\n",
    "\n",
    "def infer(model_name, op_size):\n",
    "    dino_s = torch.hub.load('facebookresearch/dinov2', 'dinov2_vits14')\n",
    "\n",
    "    transform = T.Compose([\n",
    "        T.ToTensor()\n",
    "    ])\n",
    "\n",
    "    scaler = MinMaxScaler()\n",
    "    try:\n",
    "        with open('/cs/home/akhkr1/Documents/scaler.pkl', 'rb') as file:\n",
    "            #min_max_np = pickle.load(file)\n",
    "            scaler = pickle.load(file)\n",
    "    except IOError:\n",
    "        print('error')\n",
    "    #scaler.fit(min_max_np)\n",
    "\n",
    "    class DepthEstimationModel(nn.Module):\n",
    "        def __init__(self):\n",
    "            super(DepthEstimationModel, self).__init__()\n",
    "            self.fc_layers = nn.Sequential(\n",
    "                nn.Linear(257*384, 1024*2),\n",
    "                nn.Softplus(),\n",
    "                nn.Linear(1024*2, 1024*2),\n",
    "                nn.Softplus(),\n",
    "                nn.Linear(1024*2, op_size*op_size),\n",
    "                nn.Softplus()\n",
    "            )\n",
    "\n",
    "        def forward(self, x):\n",
    "            x = x.view(x.size(0), -1)\n",
    "            x = self.fc_layers(x)  # Passing through the fully connected layers\n",
    "            x = x.view(x.size(0), op_size, op_size)\n",
    "            return x\n",
    "\n",
    "    #scale_the_input()\n",
    "\n",
    "    model = DepthEstimationModel()\n",
    "    model.load_state_dict(torch.load(f'/cs/home/akhkr1/Documents/{model_name}/syn_model.pt'))\n",
    "    model.eval()\n",
    "\n",
    "infer('500_epochs_downsize', 32)"
   ]
  },
  {
   "cell_type": "code",
   "execution_count": 18,
   "id": "5375a9ed",
   "metadata": {},
   "outputs": [],
   "source": [
    "from skimage.metrics import structural_similarity as ssim\n",
    "\n",
    "\n",
    "def ssim_loss(depth_pred, depth_gt):\n",
    "    depth_gt_np = depth_gt.detach().numpy()\n",
    "    depth_pred_np = depth_pred.detach().numpy()\n",
    "    ssim_loss = (1.0 - ssim(depth_gt_np, depth_pred_np, data_range = depth_pred_np.max() - depth_pred_np.min()))\n",
    "    return ssim_loss\n",
    "\n",
    "class CustomLoss(nn.Module):\n",
    "    def __init__(self):\n",
    "        super(CustomLoss, self).__init__()\n",
    "        self.mseLoss = torch.nn.MSELoss()\n",
    "\n",
    "    def forward(self, depth_pred, depth_gt):\n",
    "        mse_loss = self.mseLoss(depth_pred, depth_gt)\n",
    "        ssim_loss_value = torch.tensor(ssim_loss(depth_pred, depth_gt), dtype=torch.float32)\n",
    "\n",
    "        total_loss = mse_loss * exp(ssim_loss_value)\n",
    "\n",
    "        return total_loss"
   ]
  },
  {
   "cell_type": "code",
   "execution_count": 19,
   "id": "7bd78ec7-a71a-40e9-8394-b41fe57cf190",
   "metadata": {},
   "outputs": [
    {
     "name": "stdout",
     "output_type": "stream",
     "text": [
      "CPU times: user 320 ms, sys: 0 ns, total: 320 ms\n",
      "Wall time: 60.8 ms\n"
     ]
    },
    {
     "name": "stderr",
     "output_type": "stream",
     "text": [
      "/cs/home/akhkr1/Documents/pytorchvenv/lib64/python3.9/site-packages/torch/nn/functional.py:3631: UserWarning: Default upsampling behavior when mode=bicubic is changed to align_corners=False since 0.4.0. Please specify align_corners=True if the old behavior is desired. See the documentation of nn.Upsample for details.\n",
      "  warnings.warn(\n",
      "/cs/home/akhkr1/Documents/pytorchvenv/lib64/python3.9/site-packages/torch/nn/functional.py:3679: UserWarning: The default behavior for interpolate/upsample with float scale_factor changed in 1.6.0 to align with other frameworks/libraries, and now uses scale_factor directly, instead of relying on the computed output size. If you wish to restore the old behavior, please set recompute_scale_factor=True. See the documentation of nn.Upsample for details. \n",
      "  warnings.warn(\n"
     ]
    },
    {
     "data": {
      "text/plain": [
       "0.06075334548950195"
      ]
     },
     "execution_count": 19,
     "metadata": {},
     "output_type": "execute_result"
    }
   ],
   "source": [
    "\n",
    "%%time\n",
    "start = time.time()\n",
    "rgb_image = Image.open('/cs/home/akhkr1/Documents/test_data/test_input/test_input_frame.0000.color.jpg').resize((224,224))\n",
    "rgb = transform(rgb_image).unsqueeze(0)\n",
    "with torch.no_grad():\n",
    "    dino_features = dino_s.forward_features(rgb)\n",
    "\n",
    "patch_tokens = dino_features['x_norm_patchtokens']\n",
    "cls_tokens = dino_features['x_norm_clstoken']\n",
    "concat = torch.cat((cls_tokens.unsqueeze(0), patch_tokens),dim=1).squeeze(0)        \n",
    "\n",
    "concat_norm = scaler.transform(concat)\n",
    "        \n",
    "concat_norm = torch.tensor(concat_norm,dtype=torch.float32).unsqueeze(0)\n",
    "        \n",
    "predicted_depth = model(concat_norm).squeeze(0)\n",
    "end = time.time()\n",
    "total = end - start\n",
    "total\n"
   ]
  },
  {
   "cell_type": "code",
   "execution_count": 12,
   "id": "126f2a41",
   "metadata": {},
   "outputs": [
    {
     "name": "stdout",
     "output_type": "stream",
     "text": [
      "torch.Size([32, 32])\n",
      "pred:  [[ 41  38  36 ...  51  59  64]\n",
      " [ 48  50  45 ...  55  59  68]\n",
      " [ 60  64  63 ...  57  64  74]\n",
      " ...\n",
      " [ 99 100  97 ... 109 110 104]\n",
      " [ 91  89  90 ... 106 106 106]\n",
      " [ 88  88  87 ... 105 106 106]]\n",
      "gt:  [[ 44  43  42 ...  71  73  76]\n",
      " [ 56  55  54 ...  82  84  86]\n",
      " [ 69  68  67 ...  92  96  98]\n",
      " ...\n",
      " [118 115 112 ...  96  92  87]\n",
      " [110 107 105 ...  91  91  90]\n",
      " [104 101  99 ...  86  87  88]]\n",
      "0.08175849914550781\n",
      "tensor(1973.1328, grad_fn=<MulBackward0>)\n",
      "CPU times: user 327 ms, sys: 1.2 ms, total: 328 ms\n",
      "Wall time: 82.9 ms\n"
     ]
    },
    {
     "name": "stderr",
     "output_type": "stream",
     "text": [
      "/cs/home/akhkr1/Documents/pytorchvenv/lib64/python3.9/site-packages/torch/nn/functional.py:3631: UserWarning: Default upsampling behavior when mode=bicubic is changed to align_corners=False since 0.4.0. Please specify align_corners=True if the old behavior is desired. See the documentation of nn.Upsample for details.\n",
      "  warnings.warn(\n",
      "/cs/home/akhkr1/Documents/pytorchvenv/lib64/python3.9/site-packages/torch/nn/functional.py:3679: UserWarning: The default behavior for interpolate/upsample with float scale_factor changed in 1.6.0 to align with other frameworks/libraries, and now uses scale_factor directly, instead of relying on the computed output size. If you wish to restore the old behavior, please set recompute_scale_factor=True. See the documentation of nn.Upsample for details. \n",
      "  warnings.warn(\n",
      "<timed exec>:40: UserWarning: To copy construct from a tensor, it is recommended to use sourceTensor.clone().detach() or sourceTensor.clone().detach().requires_grad_(True), rather than torch.tensor(sourceTensor).\n"
     ]
    }
   ],
   "source": [
    "%%time\n",
    "criterion = CustomLoss()\n",
    "start = time.time()\n",
    "\n",
    "#rgb_image = Image.open('r.ppm').resize((224,224))\n",
    "rgb_real_size = Image.open('/cs/home/akhkr1/Documents/test_data/test_input/test_input_frame.0002.color.jpg').resize((480,480))\n",
    "rgb_image = Image.open('/cs/home/akhkr1/Documents/test_data/test_input/test_input_frame.0002.color.jpg').resize((224,224))\n",
    "gt_depth_image = Image.open('/cs/home/akhkr1/Documents/test_data/test_target/test_target_frame.0002.depth_meters.png').convert('L').resize((32,32))\n",
    "        \n",
    "rgb = transform(rgb_image).unsqueeze(0)\n",
    "\n",
    "with torch.no_grad():\n",
    "    dino_features = dino_s.forward_features(rgb)\n",
    "\n",
    "patch_tokens = dino_features['x_norm_patchtokens']\n",
    "cls_tokens = dino_features['x_norm_clstoken']\n",
    "concat = torch.cat((cls_tokens.unsqueeze(0), patch_tokens),dim=1).squeeze(0)        \n",
    "\n",
    "concat_norm = scaler.transform(concat)\n",
    "        \n",
    "concat_norm = torch.tensor(concat_norm,dtype=torch.float32).unsqueeze(0)\n",
    "        \n",
    "predicted_depth = model(concat_norm).squeeze(0)\n",
    "\n",
    "end = time.time()\n",
    "total_time = end - start\n",
    "        \n",
    "gt_np = np.array(gt_depth_image).astype(np.float32)\n",
    "gt = torch.tensor(gt_np)\n",
    "print(predicted_depth.shape)\n",
    "print('pred: ',predicted_depth.detach().numpy().astype('uint8'))\n",
    "\n",
    "gt_tensor = torch.tensor(gt)\n",
    "print('gt: ',gt_tensor.detach().numpy().astype('uint8'))\n",
    "loss = criterion(predicted_depth, gt_tensor)\n",
    "print(total_time)\n",
    "print(loss)\n"
   ]
  },
  {
   "cell_type": "code",
   "execution_count": 13,
   "id": "585fca47",
   "metadata": {},
   "outputs": [
    {
     "data": {
      "image/png": "[encoded data removed]",
      "text/plain": [
       "<Figure size 640x480 with 1 Axes>"
      ]
     },
     "metadata": {},
     "output_type": "display_data"
    },
    {
     "data": {
      "image/png": "[encoded data removed]",
      "text/plain": [
       "<Figure size 640x480 with 1 Axes>"
      ]
     },
     "metadata": {},
     "output_type": "display_data"
    },
    {
     "data": {
      "image/jpeg": "[encoded data removed]",
      "image/png": "[encoded data removed]",
      "text/plain": [
       "<PIL.Image.Image image mode=RGB size=224x224>"
      ]
     },
     "execution_count": 13,
     "metadata": {},
     "output_type": "execute_result"
    }
   ],
   "source": [
    "import numpy as np\n",
    "              \n",
    "i_output = predicted_depth.detach().cpu().numpy().astype('uint8')\n",
    "i_depth = Image.fromarray(i_output)\n",
    "plt.imshow(i_depth)\n",
    "plt.axis('off')  # Hide the axes\n",
    "plt.show()\n",
    "\n",
    "gt_output = gt_tensor.detach().cpu().numpy().astype('uint8')\n",
    "gt_depth = Image.fromarray(gt_output)\n",
    "plt.imshow(gt_depth)\n",
    "plt.axis('off')  # Hide the axes\n",
    "plt.show()\n",
    "rgb_real_size\n",
    "rgb_image"
   ]
  },
  {
   "cell_type": "code",
   "execution_count": 3,
   "id": "f321519f",
   "metadata": {},
   "outputs": [
    {
     "name": "stderr",
     "output_type": "stream",
     "text": [
      "Using cache found in /home/akhkr1/.cache/torch/hub/facebookresearch_dinov2_main\n",
      "xFormers not available\n",
      "xFormers not available\n"
     ]
    },
    {
     "name": "stdout",
     "output_type": "stream",
     "text": [
      "torch.Size([1, 256, 384])\n",
      "torch.Size([1, 384])\n"
     ]
    },
    {
     "name": "stderr",
     "output_type": "stream",
     "text": [
      "/cs/home/akhkr1/cuda-ubuntu/pytorchvenv/lib64/python3.9/site-packages/torch/nn/functional.py:3631: UserWarning: Default upsampling behavior when mode=bicubic is changed to align_corners=False since 0.4.0. Please specify align_corners=True if the old behavior is desired. See the documentation of nn.Upsample for details.\n",
      "  warnings.warn(\n",
      "/cs/home/akhkr1/cuda-ubuntu/pytorchvenv/lib64/python3.9/site-packages/torch/nn/functional.py:3679: UserWarning: The default behavior for interpolate/upsample with float scale_factor changed in 1.6.0 to align with other frameworks/libraries, and now uses scale_factor directly, instead of relying on the computed output size. If you wish to restore the old behavior, please set recompute_scale_factor=True. See the documentation of nn.Upsample for details. \n",
      "  warnings.warn(\n"
     ]
    }
   ],
   "source": [
    "from math import exp\n",
    "import torch\n",
    "import torch.nn as nn\n",
    "import torch.optim.lr_scheduler as lr_scheduler\n",
    "import numpy as np\n",
    "from PIL import Image\n",
    "import torchvision.transforms as T\n",
    "import matplotlib.pyplot as plt\n",
    "import os\n",
    "import time\n",
    "from sklearn.preprocessing import MinMaxScaler\n",
    "import warnings\n",
    "import random\n",
    "\n",
    "dino_s = torch.hub.load('facebookresearch/dinov2', 'dinov2_vits14')\n",
    "\n",
    "transform = T.Compose([\n",
    "        T.Resize(224),\n",
    "        T.CenterCrop(224),\n",
    "        T.ToTensor()\n",
    "])\n",
    "\n",
    "transform_1 = T.Compose([\n",
    "        T.Resize(384),\n",
    "        T.CenterCrop(384),\n",
    "        T.ToTensor()\n",
    "])\n",
    "\n",
    "rgb_image = Image.open('/cs/home/akhkr1/Documents/synthetic/input/input_01_frame.0002.color.jpg.jpg')\n",
    "\n",
    "rgb_tensor = transform(rgb_image).unsqueeze(0)\n",
    "\n",
    "with torch.no_grad():\n",
    "    dino_features = dino_s.forward_features(rgb_tensor)\n",
    "patch_tokens = dino_features['x_norm_patchtokens']\n",
    "cls_tokens = dino_features['x_norm_clstoken']\n",
    "        \n",
    "print(patch_tokens.shape)\n",
    "print(cls_tokens.shape)"
   ]
  },
  {
   "cell_type": "code",
   "execution_count": 4,
   "id": "e9ccd41d",
   "metadata": {},
   "outputs": [
    {
     "data": {
      "text/plain": [
       "256"
      ]
     },
     "execution_count": 4,
     "metadata": {},
     "output_type": "execute_result"
    }
   ],
   "source": [
    "patch_tokens.size(1)"
   ]
  },
  {
   "cell_type": "code",
   "execution_count": 25,
   "id": "8e560a8e",
   "metadata": {},
   "outputs": [],
   "source": [
    "#cls_tokens_repeated = cls_tokens.repeat(1, patch_tokens.size(1), 1)  # Shape: [1, 256, 384]\n",
    "\n",
    "# The resulting tensor will have shape [1, 257, 384]\n",
    "concat = torch.cat((cls_tokens.unsqueeze(0), patch_tokens), dim=1)"
   ]
  },
  {
   "cell_type": "code",
   "execution_count": 6,
   "id": "961ce8f3",
   "metadata": {},
   "outputs": [
    {
     "data": {
      "text/plain": [
       "torch.Size([1, 257, 384])"
      ]
     },
     "execution_count": 6,
     "metadata": {},
     "output_type": "execute_result"
    }
   ],
   "source": [
    "concat.shape"
   ]
  },
  {
   "cell_type": "code",
   "execution_count": 23,
   "id": "08406e78",
   "metadata": {},
   "outputs": [
    {
     "name": "stdout",
     "output_type": "stream",
     "text": [
      "tensor([[-1.4169,  0.5711, -1.0177,  1.6101,  1.3462, -0.7104, -0.8778, -2.4815,\n",
      "         -0.5755, -0.1539, -0.1294,  1.9150,  0.4130, -6.4973,  1.5695,  0.0375,\n",
      "          2.7224, -2.0075,  1.7807,  1.1459,  5.0682, -1.1943, -1.3134,  0.4301,\n",
      "          3.1091,  0.5125, -4.5354,  0.0336,  1.6805, -0.7389,  3.3844,  3.3230,\n",
      "         -0.7203,  0.7979, -0.5415,  2.7212, -3.3457, -1.6393,  0.6592,  1.9488,\n",
      "          1.2287, -2.6770,  2.2553,  3.7847,  0.9110,  3.9464,  2.9895, -2.6784,\n",
      "         -1.9790, -2.5727, -1.7814, -4.1116,  0.2830,  1.6267,  2.5250, -0.6016,\n",
      "          2.9863,  3.9091,  0.6706, -0.9239, -2.9040, -3.6482, -1.8982,  5.1991,\n",
      "         -1.3482,  0.3906,  3.5550, -0.0521,  3.4085, -2.1181, -2.2901, -0.0463,\n",
      "          2.0450, -0.9312,  2.3764, -2.9214, -2.1343,  2.3035, -4.6292,  0.5051,\n",
      "          1.4099, -0.1582,  6.1967,  0.0802,  1.1054, -1.3341, -1.9504,  1.4598,\n",
      "          1.3569,  5.6109,  1.3138, -1.9340, -0.5667,  0.8346,  2.1449, -4.0943,\n",
      "          1.4753,  1.2584, -1.0704, -3.2940,  0.8061, -2.1932,  4.2201, -1.0542,\n",
      "         -3.1919,  4.0773, -0.1779, -0.8220,  1.6639,  1.4388,  2.4816,  4.1239,\n",
      "          3.6782, -0.0818, -1.2665, -2.9502, -1.3978, -0.0560,  1.7502,  4.4910,\n",
      "         -2.2396,  3.9787, -1.8956, -1.2871, -2.0116, -1.1134, -0.5514,  0.0807,\n",
      "         -4.5531, -0.0664, -1.8667,  0.5295, -1.3011, -1.5071, -1.4957,  0.6575,\n",
      "          1.9151, -4.8124, -3.3997, -0.7865, -0.6341,  1.9322,  2.3367, -3.3125,\n",
      "          1.1994, -0.3372,  1.3390,  3.7621,  4.4696, -0.2275, -2.0744, -2.7431,\n",
      "         -1.0473, -1.1591, -1.6910, -1.0709, -0.3265,  1.3682, -2.5777, -0.2654,\n",
      "         -2.8924, -3.0406,  0.4340,  3.3044,  2.1124,  1.2375,  0.7075, -5.4500,\n",
      "         -3.4005,  1.9255,  2.9587, -1.1722,  1.3721, -1.2015,  2.7122,  0.4050,\n",
      "          0.5569,  3.0712,  1.1174,  0.5564,  0.0823,  4.0446, -2.2946,  0.5449,\n",
      "          0.9390, -6.9457,  2.2457,  4.3529, -1.6868, -1.7084, -0.7480,  0.5031,\n",
      "         -2.9120,  0.0324,  0.2185,  0.2407,  1.4669, -1.4617,  2.6791, -1.1639,\n",
      "         -1.0964, -3.6679, -1.4361, -3.8106, -0.7054, -0.8747, -0.2945, -4.0462,\n",
      "          2.1450,  0.5119,  0.7839, -0.6309, -0.3931, -1.0492,  1.5832, -3.9605,\n",
      "          3.6049,  2.1225, -5.3834,  1.1229,  1.7808, -3.3588,  1.4528,  2.6572,\n",
      "         -4.7949,  1.1444,  0.6073, -1.9223,  2.0631, -2.4057, -3.0345, -1.7770,\n",
      "         -1.1354, -1.6161, -1.7039, -3.2996, -1.2773, -3.8041,  6.8584,  4.1119,\n",
      "          1.0970,  1.2468,  1.1928,  5.1260,  7.7681,  0.6664, -2.4069,  4.1033,\n",
      "         -0.1410, -0.2510, -1.1967,  0.1510, -0.7244,  1.8728, -5.5365,  1.9432,\n",
      "         -0.0418,  6.4051,  2.4786,  1.2331,  1.2082,  1.2108,  6.6284,  2.7351,\n",
      "         -1.0969,  1.6400, -0.2680,  3.5249, -5.2107, -1.0035,  0.3750, -2.4167,\n",
      "         -0.0309, -0.5788,  0.7897, -1.5135, -0.3706,  3.7686, -0.3686, -1.6242,\n",
      "          0.3177,  2.2203,  3.7420, -1.2756,  4.3748,  1.1263, -0.0396,  3.4749,\n",
      "         -0.8139, -2.2885,  2.0930,  1.6443,  2.0987, -1.2246, -1.4241, -4.3420,\n",
      "         -3.0355, -2.0100, -3.5370, -0.6907, -1.5160, -3.3452, -2.1059, -0.4514,\n",
      "          0.2531,  1.1229, -1.0880,  4.0406,  2.3967,  0.1368,  1.2434, -1.1366,\n",
      "          3.6066,  1.7317,  4.5244,  1.8581,  1.2537,  0.5650, -1.6780,  3.6121,\n",
      "         -4.0435, -0.1226, -0.8770,  4.3719, -0.2901, -4.3792,  1.9846,  2.2158,\n",
      "         -0.3487,  0.8654, -1.1261, -3.5718, -2.0876, -3.6078, -2.5171, -0.1009,\n",
      "          3.7442, -0.1160,  1.2451,  1.1270, -0.1062,  1.1615, -2.3904, -1.4991,\n",
      "          2.3541,  2.7464, -1.0263,  4.3895, -0.7210,  1.7595, -2.9280,  0.1989,\n",
      "         -0.1764, -2.7599, -0.2122,  2.9367,  4.2382, -2.4285, -0.1428, -3.9547,\n",
      "         -1.3030, -5.4580, -0.6045, -1.1434,  2.6996, -6.7589, -3.4967, -0.2486,\n",
      "          2.7224,  0.7413,  1.1419,  1.6019, -1.2507,  0.1120, -2.8860,  1.0731,\n",
      "         -1.1225, -0.2820,  6.6288,  0.4455, -6.4118, -0.4026, -2.0014, -0.7126]])\n",
      "tensor([[[-4.5203, -3.4476, -2.0410,  ...,  1.3119,  0.7301,  2.5162],\n",
      "         [-3.0784, -4.1070, -1.8638,  ..., -0.0564, -0.1852,  0.0096],\n",
      "         [-2.3803, -3.1754,  0.2510,  ...,  1.1956,  0.3136,  0.9923],\n",
      "         ...,\n",
      "         [ 0.3534, -0.8494, -2.5665,  ..., -0.6472, -0.7836, -5.1901],\n",
      "         [-1.8284,  1.3057, -0.3950,  ..., -0.9071,  1.2729, -1.4866],\n",
      "         [-2.2892,  0.7592,  0.9251,  ..., -0.8499,  0.9825,  0.1896]]])\n",
      "tensor([[[-1.4169,  0.5711, -1.0177,  ..., -0.4026, -2.0014, -0.7126],\n",
      "         [-4.5203, -3.4476, -2.0410,  ...,  1.3119,  0.7301,  2.5162],\n",
      "         [-3.0784, -4.1070, -1.8638,  ..., -0.0564, -0.1852,  0.0096],\n",
      "         ...,\n",
      "         [ 0.3534, -0.8494, -2.5665,  ..., -0.6472, -0.7836, -5.1901],\n",
      "         [-1.8284,  1.3057, -0.3950,  ..., -0.9071,  1.2729, -1.4866],\n",
      "         [-2.2892,  0.7592,  0.9251,  ..., -0.8499,  0.9825,  0.1896]]])\n"
     ]
    }
   ],
   "source": [
    "print(cls_tokens)\n",
    "print(patch_tokens)\n",
    "print(concat)"
   ]
  },
  {
   "cell_type": "code",
   "execution_count": null,
   "id": "6b4456ca",
   "metadata": {},
   "outputs": [],
   "source": []
  },
  {
   "cell_type": "code",
   "execution_count": 61,
   "id": "c0c4ecf5",
   "metadata": {},
   "outputs": [
    {
     "data": {
      "text/plain": [
       "torch.Size([1, 196608])"
      ]
     },
     "execution_count": 61,
     "metadata": {},
     "output_type": "execute_result"
    }
   ],
   "source": [
    "concat.view(concat.size(0), -1).shape"
   ]
  },
  {
   "cell_type": "code",
   "execution_count": 50,
   "id": "8d896b87",
   "metadata": {},
   "outputs": [
    {
     "name": "stdout",
     "output_type": "stream",
     "text": [
      "torch.Size([1, 1, 512, 384])\n"
     ]
    }
   ],
   "source": [
    "input_size = (1, 512, 384)  # Input size of the tensor (1 channel, 512 height, 384 width)\n",
    "conv_layers = nn.Sequential(\n",
    "    nn.Conv2d(1, 32, kernel_size=3, padding=1),\n",
    "    nn.ReLU(inplace=True),\n",
    "    nn.Conv2d(32, 16, kernel_size=4, stride=2, padding=1),\n",
    "    nn.ReLU(inplace=True),\n",
    "    nn.ConvTranspose2d(16, 1, kernel_size=4, stride=2, padding=1)\n",
    ")\n",
    "\n",
    "# Forward pass to get the output shape\n",
    "x = torch.zeros(1, *input_size)\n",
    "output = conv_layers(x)\n",
    "\n",
    "print(output.shape)"
   ]
  },
  {
   "cell_type": "markdown",
   "id": "c6959268-12a3-44aa-aa83-3471e0404baf",
   "metadata": {},
   "source": [
    "## Normalisation and Scaler pickle file generation"
   ]
  },
  {
   "cell_type": "code",
   "execution_count": 3,
   "id": "19a60fad",
   "metadata": {},
   "outputs": [
    {
     "name": "stderr",
     "output_type": "stream",
     "text": [
      "Using cache found in /home/akhkr1/.cache/torch/hub/facebookresearch_dinov2_main\n",
      "xFormers not available\n",
      "xFormers not available\n",
      "/cs/home/akhkr1/Documents/pytorchvenv/lib64/python3.9/site-packages/torch/nn/functional.py:3631: UserWarning: Default upsampling behavior when mode=bicubic is changed to align_corners=False since 0.4.0. Please specify align_corners=True if the old behavior is desired. See the documentation of nn.Upsample for details.\n",
      "  warnings.warn(\n",
      "/cs/home/akhkr1/Documents/pytorchvenv/lib64/python3.9/site-packages/torch/nn/functional.py:3679: UserWarning: The default behavior for interpolate/upsample with float scale_factor changed in 1.6.0 to align with other frameworks/libraries, and now uses scale_factor directly, instead of relying on the computed output size. If you wish to restore the old behavior, please set recompute_scale_factor=True. See the documentation of nn.Upsample for details. \n",
      "  warnings.warn(\n"
     ]
    },
    {
     "name": "stdout",
     "output_type": "stream",
     "text": [
      "success\n"
     ]
    }
   ],
   "source": [
    "from math import exp\n",
    "import torch\n",
    "import torch.nn as nn\n",
    "import torch.optim.lr_scheduler as lr_scheduler\n",
    "import numpy as np\n",
    "from PIL import Image\n",
    "import torchvision.transforms as T\n",
    "import matplotlib.pyplot as plt\n",
    "import os\n",
    "import time\n",
    "from sklearn.preprocessing import MinMaxScaler\n",
    "import warnings\n",
    "import random\n",
    "import pickle\n",
    "\n",
    "dino_s = torch.hub.load('facebookresearch/dinov2', 'dinov2_vits14')\n",
    "\n",
    "transform = T.Compose([\n",
    "        #T.Resize(224),\n",
    "        #T.CenterCrop(224),\n",
    "        T.ToTensor()\n",
    "])\n",
    "\n",
    "data_dir = '/cs/home/akhkr1/Documents/synthetic/'\n",
    "\n",
    "input_files = os.listdir(data_dir+'input/')\n",
    "input_files.sort()\n",
    "#target_files = os.listdir(data_dir+'target/')\n",
    "#target_files.sort()\n",
    "\n",
    "\n",
    "def scale_the_input():\n",
    "    concat_np = 0\n",
    "    for i in range(2491):\n",
    "        x = Image.open(data_dir+'input/'+input_files[i]).resize((224,224))\n",
    "        image_dino = transform(x).unsqueeze(0)\n",
    "        with torch.no_grad():\n",
    "            dino_features = dino_s.forward_features(image_dino)\n",
    "            patch_tokens = dino_features['x_norm_patchtokens']\n",
    "            cls_tokens = dino_features['x_norm_clstoken']\n",
    "        \n",
    "        #print(patch_tokens.shape)\n",
    "        #print(cls_tokens.shape)\n",
    "        \n",
    "        #concat = torch.cat((cls_tokens.unsqueeze(0), patch_tokens, transform_1(image.convert(\"L\"))),dim=1)\n",
    "        concat = torch.cat((cls_tokens.unsqueeze(0), patch_tokens),dim=1).squeeze(0)\n",
    "        \n",
    "        #print(concat.shape)\n",
    "        if i == 0:\n",
    "            concat_np = concat.detach().numpy()\n",
    "        else:\n",
    "            concat_np = np.vstack((concat_np,concat.detach().numpy()))\n",
    "    return concat_np\n",
    "    \n",
    "scaling_np = scale_the_input()\n",
    "\n",
    "scaler = MinMaxScaler()\n",
    "\n",
    "scaler_pkl = scaler.fit(scaling_np)\n",
    "try:\n",
    "    with open('sample.pkl', 'wb') as file:\n",
    "        pickle.dump(scaler_pkl, file)\n",
    "        print('success')\n",
    "except IOError:\n",
    "    print('error')"
   ]
  },
  {
   "cell_type": "code",
   "execution_count": 19,
   "id": "3f930458",
   "metadata": {
    "collapsed": true,
    "jupyter": {
     "outputs_hidden": true
    }
   },
   "outputs": [
    {
     "data": {
      "text/plain": [
       "array([ 8.348322 , 19.746603 ,  7.002426 ,  8.634206 ,  9.558011 ,\n",
       "       10.361107 ,  8.209886 , 13.194143 ,  9.287977 , 10.455833 ,\n",
       "        8.63276  ,  8.287631 ,  8.9294815,  8.642332 ,  8.152129 ,\n",
       "        7.1108966,  9.08207  ,  7.1938553, 14.197992 ,  8.215777 ,\n",
       "       11.270765 ,  7.090129 ,  9.210216 , 15.719945 ,  8.388158 ,\n",
       "        7.2250166, 10.1372385,  7.19258  , 15.231693 ,  7.672604 ,\n",
       "        7.342547 , 11.834532 , 10.530704 ,  8.231302 ,  9.908246 ,\n",
       "        9.254201 ,  8.663785 , 11.751091 ,  8.287285 ,  9.593781 ,\n",
       "        8.560035 , 10.7434   ,  8.917531 , 11.544223 ,  8.658874 ,\n",
       "        9.125913 ,  8.917916 ,  7.3702483, 10.84123  ,  9.830807 ,\n",
       "       10.444311 ,  6.652022 , 11.330269 ,  9.211157 ,  9.041465 ,\n",
       "       10.19579  ,  8.307907 ,  9.470419 ,  7.7875085,  7.5272756,\n",
       "        9.925633 ,  9.4774065,  9.071125 , 10.493289 ,  7.9586296,\n",
       "        9.745113 ,  9.084847 ,  9.076361 , 29.93279  , 11.19712  ,\n",
       "        8.659021 ,  9.612243 ,  8.344201 ,  8.318838 ,  9.785555 ,\n",
       "        8.543803 , 11.821202 , 10.741577 ,  7.0008698,  2.790959 ,\n",
       "        7.6565332,  7.638816 ,  9.518111 ,  8.187613 ,  9.960365 ,\n",
       "        8.07434  ,  8.081134 ,  8.590588 ,  8.239798 ,  9.229611 ,\n",
       "       10.515388 ,  8.307952 ,  9.464738 ,  8.626834 ,  9.01659  ,\n",
       "       12.773951 ,  8.382198 ,  8.44524  ,  7.5110273,  8.175773 ,\n",
       "        9.497863 ,  9.63118  ,  9.921663 ,  7.2153525, 10.238591 ,\n",
       "        9.288014 ,  7.361524 ,  7.255789 , 10.202537 ,  6.7465425,\n",
       "        9.769426 ,  9.405988 ,  9.374991 ,  8.008823 , 10.264606 ,\n",
       "        8.243044 ,  8.825115 ,  9.031232 ,  9.770319 ,  8.377697 ,\n",
       "        8.485422 ,  9.241506 , 10.283979 ,  9.622052 ,  7.9774203,\n",
       "        8.281212 ,  7.974487 ,  8.368387 ,  7.1427155, 11.128366 ,\n",
       "       11.270286 , 10.559923 ,  8.798183 ,  6.9658074,  8.783851 ,\n",
       "        8.038832 ,  8.937609 ,  8.625897 , 13.886732 ,  7.889269 ,\n",
       "       10.729858 ,  7.826841 , 13.304227 ,  9.448423 ,  7.247484 ,\n",
       "        7.9422426,  9.040789 ,  9.756307 , 11.292245 , 10.426466 ,\n",
       "        9.025342 ,  8.430125 ,  9.215565 ,  8.054393 ,  8.635105 ,\n",
       "        7.365268 ,  9.825381 ,  7.7911363,  9.401676 ,  9.991087 ,\n",
       "        8.566454 ,  8.451227 , 10.686702 ,  7.3243027,  9.48415  ,\n",
       "        6.7811747,  7.8280096,  7.5270576,  8.821465 ,  7.9296703,\n",
       "        8.57417  ,  9.210675 ,  7.671597 ,  8.866321 ,  7.4142747,\n",
       "        7.650858 ,  8.269601 ,  8.351622 ,  8.418116 , 12.153004 ,\n",
       "        8.189385 , 13.107577 ,  7.804378 ,  7.8485513,  9.318224 ,\n",
       "        8.179294 , 10.376766 ,  7.8106813,  8.131901 ,  7.727331 ,\n",
       "        9.366578 ,  9.944436 ,  8.083961 ,  7.567522 ,  8.452623 ,\n",
       "       10.407438 ,  8.42189  ,  8.061689 ,  7.428054 , 12.805093 ,\n",
       "        7.7687097,  8.549779 ,  9.306338 ,  8.413328 ,  9.301556 ,\n",
       "       10.311147 ,  7.9159236,  6.5046825, 11.935913 ,  9.861309 ,\n",
       "        8.579985 ,  8.563578 , 11.874833 ,  9.388513 ,  8.21321  ,\n",
       "        9.105177 ,  9.451239 ,  9.160379 ,  9.696029 , 13.434975 ,\n",
       "       10.1750345,  6.8800387,  9.616525 ,  8.7640085,  7.877094 ,\n",
       "       10.935735 ,  7.5992603,  8.718645 ,  8.411989 ,  9.865234 ,\n",
       "       10.1229925,  9.586738 , 11.803102 ,  7.7251463,  7.409581 ,\n",
       "        7.5812078,  7.7047634,  8.756198 , 11.092415 ,  8.453424 ,\n",
       "        9.987206 ,  7.863819 ,  8.667234 ,  9.471296 , 11.4604   ,\n",
       "       10.2683735,  9.019346 ,  9.69186  , 10.929954 ,  9.531231 ,\n",
       "        7.859446 ,  9.35614  ,  8.498152 ,  9.7883625,  6.8006916,\n",
       "        8.250967 ,  9.820106 , 10.41079  , 10.806824 ,  9.733104 ,\n",
       "        9.4301405, 13.789183 , 12.445306 ,  9.94146  , 13.008581 ,\n",
       "        9.595795 ,  7.9612617,  9.883766 ,  8.61062  ,  8.3849325,\n",
       "        7.600037 ,  8.679742 ,  9.599648 ,  8.360413 ,  8.239312 ,\n",
       "       11.843987 ,  8.978231 , 11.272604 ,  5.2250943,  9.134289 ,\n",
       "        9.028462 ,  9.816878 ,  8.935275 , 10.189821 ,  8.167022 ,\n",
       "        6.4209266, 13.296683 ,  7.7586575, 12.591223 ,  9.252996 ,\n",
       "        9.949728 , 11.909347 ,  8.203831 ,  7.5404935,  7.930961 ,\n",
       "       10.2900505,  7.3026795,  7.62315  , 10.303652 ,  9.70857  ,\n",
       "        9.246738 ,  9.065749 ,  6.8860965,  8.921394 ,  9.331883 ,\n",
       "        9.964274 ,  8.098078 , 10.276367 ,  8.8392725,  8.728202 ,\n",
       "        7.4677444,  8.505246 ,  9.887658 ,  7.7929378,  8.213246 ,\n",
       "        9.127808 ,  9.097359 ,  9.580297 ,  9.501393 ,  9.580282 ,\n",
       "        9.605013 , 12.634661 , 10.133735 , 14.411281 ,  9.09551  ,\n",
       "        9.170439 , 10.716735 ,  7.9247646,  6.7598825,  8.46912  ,\n",
       "       10.530257 ,  7.516517 ,  9.057091 ,  9.07753  ,  7.667461 ,\n",
       "        8.883198 ,  9.808451 , 10.73188  ,  8.271644 ,  9.756767 ,\n",
       "       10.464289 ,  9.442604 ,  8.9081335,  8.394407 , 10.212019 ,\n",
       "        9.140643 ,  9.0109215, 11.003897 ,  8.618128 ,  8.226373 ,\n",
       "        7.3154993, 10.571214 ,  9.30794  ,  8.286164 ,  6.787905 ,\n",
       "        7.7409987,  8.61741  , 11.16402  , 10.618911 , 12.568943 ,\n",
       "        9.500978 ,  7.382902 ,  7.9155164,  7.561013 ,  8.610236 ,\n",
       "       10.290629 ,  7.596621 ,  7.553853 ,  7.7370086,  7.777892 ,\n",
       "        7.384689 ,  9.579916 ,  9.180107 ,  9.740153 ,  9.381754 ,\n",
       "       10.075375 , 10.0127   ,  8.853445 ,  9.724584 , 13.419594 ,\n",
       "        7.649151 ,  9.403086 ,  8.23525  , 10.536667 ], dtype=float32)"
      ]
     },
     "execution_count": 19,
     "metadata": {},
     "output_type": "execute_result"
    }
   ],
   "source": [
    "from math import exp\n",
    "import torch\n",
    "import torch.nn as nn\n",
    "import torch.optim.lr_scheduler as lr_scheduler\n",
    "import numpy as np\n",
    "from PIL import Image\n",
    "import torchvision.transforms as T\n",
    "import matplotlib.pyplot as plt\n",
    "import os\n",
    "\n",
    "try:\n",
    "    with open('sample.pkl', 'rb') as file:\n",
    "        scaler_loaded = pickle.load(file)\n",
    "except IOError:\n",
    "    print('error')\n",
    "    \n",
    "scaler_loaded.data_max_"
   ]
  },
  {
   "cell_type": "code",
   "execution_count": 20,
   "id": "d8c0f21d",
   "metadata": {},
   "outputs": [
    {
     "name": "stderr",
     "output_type": "stream",
     "text": [
      "/cs/home/akhkr1/cuda-ubuntu/pytorchvenv/lib64/python3.9/site-packages/torch/nn/functional.py:3631: UserWarning: Default upsampling behavior when mode=bicubic is changed to align_corners=False since 0.4.0. Please specify align_corners=True if the old behavior is desired. See the documentation of nn.Upsample for details.\n",
      "  warnings.warn(\n",
      "/cs/home/akhkr1/cuda-ubuntu/pytorchvenv/lib64/python3.9/site-packages/torch/nn/functional.py:3679: UserWarning: The default behavior for interpolate/upsample with float scale_factor changed in 1.6.0 to align with other frameworks/libraries, and now uses scale_factor directly, instead of relying on the computed output size. If you wish to restore the old behavior, please set recompute_scale_factor=True. See the documentation of nn.Upsample for details. \n",
      "  warnings.warn(\n"
     ]
    },
    {
     "data": {
      "text/plain": [
       "array([[0.5698473 , 0.46414092, 0.41898601, ..., 0.34737565, 0.3637992 ,\n",
       "        0.44054096],\n",
       "       [0.4714203 , 0.36606208, 0.48243436, ..., 0.43827008, 0.47684762,\n",
       "        0.6859246 ],\n",
       "       [0.55185304, 0.34621256, 0.58072157, ..., 0.34878207, 0.35976822,\n",
       "        0.68641596],\n",
       "       ...,\n",
       "       [0.71031381, 0.39177797, 0.54622665, ..., 0.38769777, 0.29726189,\n",
       "        0.39786464],\n",
       "       [0.56486356, 0.40735764, 0.56606834, ..., 0.38407424, 0.3753962 ,\n",
       "        0.29239611],\n",
       "       [0.5943646 , 0.4496975 , 0.53991201, ..., 0.51492739, 0.26878205,\n",
       "        0.24288864]])"
      ]
     },
     "execution_count": 20,
     "metadata": {},
     "output_type": "execute_result"
    }
   ],
   "source": [
    "transform = T.Compose([\n",
    "        #T.Resize(224),\n",
    "        #T.CenterCrop(224),\n",
    "        T.ToTensor()\n",
    "])\n",
    "rgb_image = Image.open('/cs/home/akhkr1/Documents/synthetic/input/input_02_frame.0002.color.jpg.jpg').resize((224,224))\n",
    "rgb = transform(rgb_image).unsqueeze(0)\n",
    "\n",
    "with torch.no_grad():\n",
    "    dino_features = dino_s.forward_features(rgb)\n",
    "\n",
    "patch_tokens = dino_features['x_norm_patchtokens']\n",
    "cls_tokens = dino_features['x_norm_clstoken']\n",
    "concat = torch.cat((cls_tokens.unsqueeze(0), patch_tokens),dim=1).squeeze(0)        \n",
    "\n",
    "concat_norm = scaler.transform(concat)\n",
    "concat_norm"
   ]
  },
  {
   "cell_type": "code",
   "execution_count": 5,
   "id": "9cfacd9c",
   "metadata": {},
   "outputs": [
    {
     "data": {
      "text/plain": [
       "27"
      ]
     },
     "execution_count": 5,
     "metadata": {},
     "output_type": "execute_result"
    }
   ],
   "source": [
    "2491%32"
   ]
  },
  {
   "cell_type": "code",
   "execution_count": 10,
   "id": "5ecc8de4-0f94-4581-aadc-19cdfd65b55b",
   "metadata": {},
   "outputs": [
    {
     "name": "stdout",
     "output_type": "stream",
     "text": [
      "78\n"
     ]
    }
   ],
   "source": [
    "from torch.utils.data import Dataset, DataLoader\n",
    "class ImageDataset(Dataset):\n",
    "    def __init__(self, root_dir):\n",
    "        self.root_dir = root_dir\n",
    "        self.input_dir = os.path.join(self.root_dir, 'input/')\n",
    "        self.target_dir = os.path.join(self.root_dir, 'target/')\n",
    "        self.input_filenames = os.listdir(self.input_dir)\n",
    "        self.target_filenames = os.listdir(self.target_dir)\n",
    "\n",
    "        # Ensure the input and target filenames are in sync\n",
    "        self.input_filenames.sort()\n",
    "        self.target_filenames.sort()\n",
    "\n",
    "    def __len__(self):\n",
    "        return len(self.input_filenames)\n",
    "\n",
    "    def __getitem__(self, idx):\n",
    "        input_image_path = os.path.join(self.input_dir, self.input_filenames[idx])\n",
    "        target_image_path = os.path.join(self.target_dir, self.target_filenames[idx])\n",
    "\n",
    "        input_to_dino = Image.open(input_image_path).resize((224,224))\n",
    "        target_image = Image.open(target_image_path).convert('L').resize((32,32))\n",
    "\n",
    "        input_to_dino = transform_input(input_to_dino).unsqueeze(0)\n",
    "        with torch.no_grad():\n",
    "            dino_features = dino_s.forward_features(input_to_dino)\n",
    "\n",
    "        patch_tokens = dino_features['x_norm_patchtokens']  # [1, 256, 384]\n",
    "        cls_tokens = dino_features['x_norm_clstoken']  # [1, 384]\n",
    "        concat = torch.cat((cls_tokens.unsqueeze(0), patch_tokens), dim=1).squeeze(0)\n",
    "\n",
    "        concat_norm = scaler.transform(concat.detach().numpy())\n",
    "\n",
    "        input_features = torch.tensor(concat_norm, dtype=torch.float32).unsqueeze(0)\n",
    "        target_image = np.array(target_image).astype(np.float32)\n",
    "        target_tensor = torch.tensor(target_image)\n",
    "\n",
    "        return input_features, target_tensor\n",
    "\n",
    "root_dir = '/cs/home/akhkr1/Documents/synthetic/'\n",
    "\n",
    "paired_dataset = ImageDataset(root_dir)\n",
    "batch_size = 32\n",
    "paired_loader = DataLoader(paired_dataset, batch_size=batch_size, shuffle=True)\n",
    "\n",
    "print(len(paired_loader))"
   ]
  },
  {
   "cell_type": "code",
   "execution_count": 4,
   "id": "0b6da9d4-00ba-4e06-b21e-cda416bd1022",
   "metadata": {},
   "outputs": [],
   "source": [
    "import numpy as np\n",
    "import matplotlib.pyplot as plt\n",
    "\n",
    "loss = np.loadtxt('/cs/home/akhkr1/Documents/downsize/train_loss_syn.txt')\n",
    "\n",
    "folder_name = 'downsize'\n",
    "\n",
    "epoch_training_loss = np.ndarray.tolist(loss)\n",
    "\n",
    "fig, ax = plt.subplots()\n",
    "# Plot the list data\n",
    "ax.plot(epoch_training_loss)\n",
    "\n",
    "# Add labels and title\n",
    "ax.set_title('Train Loss')\n",
    "ax.set_xlabel('Epoch')\n",
    "ax.set_ylabel('Value')\n",
    "# Save the plot as an image\n",
    "fig.savefig(f'/cs/home/akhkr1/Documents/{folder_name}/loss_plot.png')\n",
    "# Close the plot\n",
    "plt.close(fig)"
   ]
  },
  {
   "cell_type": "code",
   "execution_count": 1,
   "id": "604c571a-222f-4eab-85f4-47ab0ca35565",
   "metadata": {},
   "outputs": [
    {
     "name": "stdout",
     "output_type": "stream",
     "text": [
      "Filesystem                                       1K-blocks      Used Available Use% Mounted on\n",
      "devtmpfs                                              4096         0      4096   0% /dev\n",
      "tmpfs                                             16324512         0  16324512   0% /dev/shm\n",
      "tmpfs                                              6529808      5848   6523960   1% /run\n",
      "/dev/nvme1n1p4                                   941501752 105186376 788415984  12% /\n",
      "/dev/nvme1n1p2                                     1992552    342080   1529232  19% /boot\n",
      "/dev/nvme1n1p1                                      613184      7184    606000   2% /boot/efi\n",
      "arrakis.cs.st-andrews.ac.uk:/primary/user/akhkr1  52428800  12175952  40252848  24% /cs/home/akhkr1\n",
      "tmpfs                                              1048576      1676   1046900   1% /run/user/23648\n"
     ]
    }
   ],
   "source": [
    "!df"
   ]
  },
  {
   "cell_type": "code",
   "execution_count": 28,
   "id": "4290bc77-6956-4175-9c97-017d8b553138",
   "metadata": {},
   "outputs": [
    {
     "name": "stdout",
     "output_type": "stream",
     "text": [
      "1M\t/home/akhkr1/Downloads/.ipynb_checkpoints\n",
      "1M\t/home/akhkr1/Downloads/\n"
     ]
    }
   ],
   "source": [
    "!du /home/akhkr1/Downloads/ --max-depth=1 -B M"
   ]
  },
  {
   "cell_type": "code",
   "execution_count": null,
   "id": "37c888f9-41e2-44e5-917e-278639154ca2",
   "metadata": {},
   "outputs": [],
   "source": []
  }
 ],
 "metadata": {
  "kernelspec": {
   "display_name": "Python 3 (ipykernel)",
   "language": "python",
   "name": "python3"
  },
  "language_info": {
   "codemirror_mode": {
    "name": "ipython",
    "version": 3
   },
   "file_extension": ".py",
   "mimetype": "text/x-python",
   "name": "python",
   "nbconvert_exporter": "python",
   "pygments_lexer": "ipython3",
   "version": "3.9.16"
  }
 },
 "nbformat": 4,
 "nbformat_minor": 5
}
